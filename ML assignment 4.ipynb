{
 "cells": [
  {
   "cell_type": "markdown",
   "id": "69d822ae",
   "metadata": {},
   "source": [
    "## 1. What are the key tasks involved in getting ready to work with machine learning modeling?"
   ]
  },
  {
   "cell_type": "markdown",
   "id": "8393e3e7",
   "metadata": {},
   "source": [
    "Getting ready to work with machine learning modeling involves several key tasks to ensure a successful and effective workflow. Here are the essential steps:\n",
    "\n",
    "1. **Problem Definition:** Clearly define the problem you want to solve using machine learning. Identify the objective, target variable, and the type of learning task (classification, regression, clustering, etc.).\n",
    "\n",
    "2. **Data Collection:** Gather relevant and high-quality data for your problem. Data can come from various sources, such as databases, APIs, web scraping, or third-party datasets.\n",
    "\n",
    "3. **Data Cleaning and Preprocessing:** Clean the data to handle missing values, outliers, and noise. Preprocess the data by performing feature scaling, normalization, and encoding categorical variables.\n",
    "\n",
    "4. **Data Exploration and Visualization:** Explore the data to understand its structure, patterns, and relationships. Create visualizations to gain insights into the data and detect any anomalies.\n",
    "\n",
    "5. **Feature Engineering:** Select or create meaningful features that can capture the essential information for the model. This may involve domain knowledge and data transformation techniques.\n",
    "\n",
    "6. **Data Splitting:** Split the data into training and test sets. The training set is used to train the model, while the test set is used to evaluate its performance on unseen data.\n",
    "\n",
    "7. **Model Selection:** Choose appropriate machine learning algorithms or models based on the problem type and data characteristics. Consider factors such as model complexity, interpretability, and scalability.\n",
    "\n",
    "8. **Model Training:** Train the selected model using the training data. Adjust hyperparameters if necessary and validate the model's performance using cross-validation.\n",
    "\n",
    "9. **Model Evaluation:** Evaluate the model's performance using various metrics such as accuracy, precision, recall, F1-score, etc. Assess how well the model generalizes to new data.\n",
    "\n",
    "10. **Model Tuning:** Fine-tune the model by optimizing hyperparameters and conducting feature selection to improve its performance.\n",
    "\n",
    "11. **Model Interpretation:** Understand the model's decision-making process and interpretability, especially for critical applications where explanations are necessary.\n",
    "\n",
    "12. **Deployment and Productionization:** Deploy the trained model to production or integrate it into the application for real-world use. Implement monitoring and maintenance mechanisms for continuous improvement.\n",
    "\n",
    "13. **Documentation:** Document the entire process, including data preparation, model selection, hyperparameter tuning, and evaluation results. This documentation helps in reproducibility and knowledge sharing.\n",
    "\n",
    "14. **Continuous Learning and Improvement:** Machine learning is an iterative process. Continuously monitor the model's performance, update data, and retrain the model periodically for continuous improvement.\n",
    "\n",
    "By following these key tasks, you can efficiently prepare for machine learning modeling and develop accurate and robust models to address various real-world challenges."
   ]
  },
  {
   "cell_type": "markdown",
   "id": "39086045",
   "metadata": {},
   "source": [
    "## 2. What are the different forms of data used in machine learning? Give a specific example for each of them."
   ]
  },
  {
   "cell_type": "markdown",
   "id": "a10ee135",
   "metadata": {},
   "source": [
    "In machine learning, different forms of data are used based on their characteristics and representation. The main forms of data used in machine learning are:\n",
    "\n",
    "1. **Numerical Data:**\n",
    "   - Numerical data consists of numbers and can be either continuous or discrete.\n",
    "   - Example: Age of individuals in a population. For instance, [25, 30, 22, 40, 27].\n",
    "\n",
    "2. **Categorical Data:**\n",
    "   - Categorical data represents discrete and non-numeric values that fall into specific categories or groups.\n",
    "   - Example: Gender of individuals. For example, [\"Male\", \"Female\", \"Male\", \"Female\", \"Male\"].\n",
    "\n",
    "3. **Textual Data:**\n",
    "   - Textual data consists of unstructured text, such as sentences or paragraphs.\n",
    "   - Example: Product reviews. For instance, [\"This product is amazing!\", \"Poor quality, don't buy it.\"].\n",
    "\n",
    "4. **Image Data:**\n",
    "   - Image data is a collection of pixel values that form an image.\n",
    "   - Example: Handwritten digits for digit recognition. For example, an image of digit 7 represented as pixel values.\n",
    "\n",
    "5. **Audio Data:**\n",
    "   - Audio data represents sound recordings, typically stored as waveform values.\n",
    "   - Example: Audio samples for speech recognition. For instance, audio data of spoken words.\n",
    "\n",
    "6. **Time Series Data:**\n",
    "   - Time series data is a sequence of data points collected over time, typically at regular intervals.\n",
    "   - Example: Stock price over time. For example, [100.5, 102.3, 99.8, 105.2, ...] at different time points.\n",
    "\n",
    "7. **Structured Data:**\n",
    "   - Structured data is organized in a tabular format with rows and columns.\n",
    "   - Example: Customer information in a database. For instance, [Name, Age, Income, Gender].\n",
    "\n",
    "8. **Spatial Data:**\n",
    "   - Spatial data represents information about locations and geographic features.\n",
    "   - Example: GPS coordinates of different landmarks. For example, [latitude, longitude].\n",
    "\n",
    "9. **Graph Data:**\n",
    "   - Graph data represents entities and their relationships in a network or graph structure.\n",
    "   - Example: Social network connections. For instance, nodes representing users and edges representing friendships.\n",
    "\n",
    "10. **Video Data:**\n",
    "    - Video data consists of a sequence of images played in rapid succession, creating motion.\n",
    "    - Example: Surveillance camera footage. For example, a sequence of frames capturing activity.\n",
    "\n",
    "Machine learning algorithms are designed to handle these different forms of data, and data preprocessing techniques are employed to convert data into a format suitable for the chosen model. The choice of data representation depends on the specific machine learning task and the characteristics of the data being analyzed."
   ]
  },
  {
   "cell_type": "markdown",
   "id": "1197114f",
   "metadata": {},
   "source": [
    "## 3. Distinguish:\n",
    "\n",
    "## 1. Numeric vs. categorical attributes\n",
    "\n",
    "## 2. Feature selection vs. dimensionality reduction"
   ]
  },
  {
   "cell_type": "markdown",
   "id": "db8e974f",
   "metadata": {},
   "source": [
    "1. **Numeric vs. Categorical Attributes:**\n",
    "   - Numeric attributes are variables that represent numerical quantities and can take continuous or discrete values. They are suitable for mathematical operations and comparisons.\n",
    "   - Categorical attributes, on the other hand, represent non-numeric and discrete values that belong to specific categories or classes. They are used to label and group data into distinct groups.\n",
    "\n",
    "2. **Feature Selection vs. Dimensionality Reduction:**\n",
    "   - Feature Selection is the process of selecting a subset of the most relevant and informative features from the original set of features. It aims to remove irrelevant and redundant features to improve model performance and reduce computational complexity.\n",
    "   - Dimensionality Reduction, on the other hand, is a technique to reduce the number of features or dimensions in the dataset. It transforms the original high-dimensional data into a lower-dimensional space while preserving important information. Dimensionality reduction methods include techniques like Principal Component Analysis (PCA) and t-distributed Stochastic Neighbor Embedding (t-SNE).\n",
    "\n",
    "In summary, numeric attributes deal with numerical values, while categorical attributes deal with non-numeric categories. Feature selection involves choosing the most important features from the original set, while dimensionality reduction aims to reduce the number of features while retaining essential information. Both techniques are used to simplify the data and enhance the performance of machine learning models."
   ]
  },
  {
   "cell_type": "markdown",
   "id": "0b6e472f",
   "metadata": {},
   "source": [
    "## 4. Make quick notes on any two of the following:\n",
    "\n",
    "## 1. The histogram\n",
    "\n",
    "## 2. Use a scatter plot\n",
    "\n",
    "## 3.PCA (Personal Computer Aid)"
   ]
  },
  {
   "cell_type": "markdown",
   "id": "abf3fc07",
   "metadata": {},
   "source": [
    "**1. The Histogram:**\n",
    "- A histogram is a graphical representation of the distribution of a dataset. It consists of a series of bars, where each bar represents a range of values (bin) and the height of the bar indicates the frequency or count of data points falling within that bin.\n",
    "- Histograms are commonly used to visualize the frequency distribution of numerical data. They help to understand the central tendency, spread, and shape of the data, including any outliers or skewness.\n",
    "- It is especially useful when dealing with continuous data, as it allows us to group data into intervals and observe their distribution more effectively.\n",
    "- Histograms are straightforward to interpret and can provide insights into the underlying data patterns, making them a valuable tool for exploratory data analysis.\n",
    "\n",
    "**2. Use a Scatter Plot:**\n",
    "- A scatter plot is a graph that displays individual data points as dots on a two-dimensional coordinate system. Each data point is represented by its values on the x-axis (horizontal) and y-axis (vertical).\n",
    "- Scatter plots are commonly used to visualize the relationship between two variables. They help identify patterns, trends, clusters, and correlations between variables.\n",
    "- It is particularly useful for examining how two numerical variables are related to each other, such as determining if there is a positive or negative correlation between them.\n",
    "- Scatter plots can also be extended to include additional dimensions by using color, size, or shape of the dots, allowing visualization of multivariate data.\n",
    "- They are valuable for detecting outliers, identifying clusters, and gaining insights into the underlying structure of the data."
   ]
  },
  {
   "cell_type": "markdown",
   "id": "04becf2b",
   "metadata": {},
   "source": [
    "## 5. Why is it necessary to investigate data? Is there a discrepancy in how qualitative and quantitative data are explored?"
   ]
  },
  {
   "cell_type": "markdown",
   "id": "84d690ed",
   "metadata": {},
   "source": [
    "Investigating data is a crucial step in the data analysis process, regardless of whether the data is qualitative or quantitative. The primary reasons for data investigation are as follows:\n",
    "\n",
    "1. **Understanding Data Characteristics:** Data investigation helps in gaining insights into the underlying characteristics of the dataset. It allows us to understand the range, distribution, central tendency, and variability of the data.\n",
    "\n",
    "2. **Identifying Data Anomalies:** During data investigation, anomalies and outliers can be detected. These anomalies might be due to data entry errors, measurement errors, or genuine unusual patterns that require further exploration.\n",
    "\n",
    "3. **Data Cleaning:** Investigating data helps in identifying missing values, duplicate entries, and inconsistencies. Cleaning the data is essential to ensure the accuracy and reliability of the analysis.\n",
    "\n",
    "4. **Feature Selection:** For quantitative data, exploring relationships between variables can help in selecting the most relevant features for analysis. It allows us to choose variables that have a strong impact on the target variable.\n",
    "\n",
    "5. **Pattern Recognition:** Investigating data can reveal patterns, trends, or associations that are not evident at first glance. Such patterns can be used to derive valuable insights or form the basis of predictive models.\n",
    "\n",
    "6. **Preparation for Modeling:** Prior to building machine learning models, data investigation is necessary to preprocess the data and prepare it in a format suitable for modeling.\n",
    "\n",
    "Regarding the discrepancy in exploring qualitative and quantitative data, there are some differences:\n",
    "\n",
    "1. **Qualitative Data Exploration:** Qualitative data analysis involves examining non-numeric data, such as text or categorical variables. The exploration of qualitative data often includes techniques like content analysis, thematic analysis, or sentiment analysis. The focus is on understanding patterns in text or identifying themes in categorical data.\n",
    "\n",
    "2. **Quantitative Data Exploration:** Quantitative data analysis deals with numeric data and involves statistical techniques to understand distributions, correlations, and relationships between variables. It often includes visualizations like histograms, scatter plots, and correlation matrices.\n",
    "\n",
    "While the techniques and tools used for exploring qualitative and quantitative data may differ, the overarching goal remains the same: gaining a deeper understanding of the data to make informed decisions, derive insights, and drive meaningful conclusions. Data investigation is a critical step in any data analysis process, and its thoroughness contributes to the success of subsequent data modeling and decision-making processes."
   ]
  },
  {
   "cell_type": "markdown",
   "id": "bc95056d",
   "metadata": {},
   "source": [
    "## 6. What are the various histogram shapes? What exactly are ‘bins&#39;?"
   ]
  },
  {
   "cell_type": "markdown",
   "id": "1988a7bd",
   "metadata": {},
   "source": [
    "Histograms can take on various shapes, which indicate the distribution of the data. The main histogram shapes are:\n",
    "\n",
    "1. **Symmetric (Normal/Gaussian) Distribution:** The data is evenly distributed around the mean, forming a bell-shaped curve. It is the most common and well-known histogram shape.\n",
    "\n",
    "2. **Skewed Right (Positive Skew) Distribution:** The majority of data points are on the left side of the histogram, and the tail extends towards the right. The mean is typically greater than the median.\n",
    "\n",
    "3. **Skewed Left (Negative Skew) Distribution:** The majority of data points are on the right side of the histogram, and the tail extends towards the left. The mean is typically less than the median.\n",
    "\n",
    "4. **Bimodal Distribution:** The histogram exhibits two distinct peaks or modes, indicating the presence of two different groups or categories in the data.\n",
    "\n",
    "5. **Uniform Distribution:** The data is evenly distributed across the range, resulting in a flat, rectangular histogram.\n",
    "\n",
    "6. **Exponential Distribution:** The histogram forms a decreasing curve, indicating that the frequency of data decreases exponentially.\n",
    "\n",
    "'Bins' in a histogram represent intervals or ranges into which the data is divided. The data is grouped into these bins, and the height of each bar in the histogram represents the frequency or count of data points falling within that bin. The width of each bin is determined based on the range of the data values and the desired level of granularity.\n",
    "\n",
    "For example, if we have a dataset of test scores ranging from 0 to 100 and want to create a histogram with 10 bins, the scores will be divided into 10 intervals of 10 points each (0-9, 10-19, 20-29, and so on). The number of scores falling within each interval will determine the height of the corresponding bar in the histogram. The bins play a crucial role in visualizing the distribution of data and understanding its patterns. The choice of the number of bins can impact the appearance and interpretation of the histogram, so it's essential to choose an appropriate number based on the characteristics of the data."
   ]
  },
  {
   "cell_type": "markdown",
   "id": "251b014b",
   "metadata": {},
   "source": [
    "## 7. How do we deal with data outliers?"
   ]
  },
  {
   "cell_type": "markdown",
   "id": "4445afbc",
   "metadata": {},
   "source": [
    "Dealing with data outliers is an important step in data preprocessing and analysis. Outliers are data points that significantly deviate from the majority of the data and can have a significant impact on statistical analyses and machine learning models. Here are some common approaches to handle data outliers:\n",
    "\n",
    "1. **Identify Outliers:** Before dealing with outliers, it is essential to identify them. This can be done through visualizations like box plots, scatter plots, or histograms, or by using statistical methods like z-scores or the interquartile range (IQR).\n",
    "\n",
    "2. **Remove Outliers:** In some cases, outliers can be removed from the dataset if they are genuine data entry errors or anomalies. However, this should be done carefully, and it is crucial to validate that the data points are indeed outliers and not part of the underlying pattern.\n",
    "\n",
    "3. **Transform Data:** In certain situations, transforming the data can help in reducing the impact of outliers. Common transformations include log transformation, square root transformation, or box-cox transformation. These transformations can make the data more suitable for statistical analysis.\n",
    "\n",
    "4. **Impute Missing Values:** Outliers can sometimes be the result of missing data or measurement errors. Imputing missing values using appropriate methods can help in dealing with these outliers.\n",
    "\n",
    "5. **Use Robust Statistics:** Instead of traditional mean and standard deviation, consider using robust statistical measures like median and median absolute deviation (MAD) that are less sensitive to outliers.\n",
    "\n",
    "6. **Binning or Discretization:** For some applications, binning or discretization can be used to group outliers with similar values into specific bins, reducing their impact.\n",
    "\n",
    "7. **Clip Data:** Outliers can be clipped or capped to a predefined value to limit their influence on the analysis or model.\n",
    "\n",
    "8. **Create Separate Models:** In some cases, it may be beneficial to build separate models for data points that are within the normal range and those that are considered outliers.\n",
    "\n",
    "9. **Use Robust Algorithms:** Some machine learning algorithms are more robust to outliers than others. For example, decision trees and random forests are less sensitive to outliers compared to linear regression.\n",
    "\n",
    "It is essential to understand the domain and context of the data to determine the most appropriate method for handling outliers. It's important to strike a balance between retaining valuable information and reducing the impact of outliers on the analysis or modeling process. Additionally, it is advisable to document the approach taken to handle outliers and its potential impact on the results to ensure transparency and reproducibility of the analysis."
   ]
  },
  {
   "cell_type": "markdown",
   "id": "9205eb92",
   "metadata": {},
   "source": [
    "## 8. What are the various central inclination measures? Why does mean vary too much from median in certain data sets?"
   ]
  },
  {
   "cell_type": "markdown",
   "id": "0ce84630",
   "metadata": {},
   "source": [
    "Central inclination measures are used to describe the typical or central value of a dataset. They provide a single representative value around which the data tends to cluster. The main central inclination measures are:\n",
    "\n",
    "1. **Mean:** The mean is the average value of a dataset, calculated by summing all the data points and dividing by the total number of data points. It is highly influenced by extreme values (outliers) since it takes into account all data points.\n",
    "\n",
    "2. **Median:** The median is the middle value of a dataset when it is ordered in ascending or descending order. It is not affected by extreme values and is a robust measure of central tendency.\n",
    "\n",
    "3. **Mode:** The mode is the value that appears most frequently in the dataset. A dataset can have one mode (unimodal) or multiple modes (multimodal).\n",
    "\n",
    "4. **Geometric Mean:** The geometric mean is the nth root of the product of n values in a dataset. It is commonly used when dealing with growth rates or ratios.\n",
    "\n",
    "5. **Harmonic Mean:** The harmonic mean is the reciprocal of the arithmetic mean of the reciprocals of the dataset values. It is useful when dealing with rates or averages of rates.\n",
    "\n",
    "6. **Weighted Mean:** The weighted mean is calculated by taking into account the weights of each data point, which reflects its importance.\n",
    "\n",
    "The mean can vary significantly from the median in certain datasets due to the presence of outliers or extreme values. Outliers are data points that are significantly different from the majority of the data. Since the mean considers all data points equally, even a single extreme value can significantly influence its value. On the other hand, the median is not affected by outliers since it only considers the middle value, making it a more robust measure of central tendency.\n",
    "\n",
    "For example, consider a dataset of income levels in a country. If there are a few extremely high-income individuals (outliers), their incomes will have a significant impact on the mean, pulling it higher. However, the median will not be affected as it is simply the middle value, representative of the central income level for the majority of the population.\n",
    "\n",
    "In datasets with a high degree of skewness or extreme values, using the median as a measure of central tendency is often preferred, as it provides a more accurate representation of the typical value and is less sensitive to outliers. However, both the mean and median have their uses depending on the specific context and characteristics of the data."
   ]
  },
  {
   "cell_type": "markdown",
   "id": "09471a3e",
   "metadata": {},
   "source": [
    "## 9. Describe how a scatter plot can be used to investigate bivariate relationships. Is it possible to find outliers using a scatter plot?"
   ]
  },
  {
   "cell_type": "markdown",
   "id": "53626bf7",
   "metadata": {},
   "source": [
    "A scatter plot is a type of data visualization that is used to investigate the relationship between two variables in a bivariate dataset. It displays individual data points as dots on a two-dimensional graph, where one variable is represented on the x-axis and the other on the y-axis. Scatter plots are particularly useful for identifying patterns, trends, and relationships between the two variables.\n",
    "\n",
    "**Interpreting Scatter Plots:**\n",
    "1. **Positive Correlation:** If the data points in the scatter plot tend to form an upward-sloping pattern, it indicates a positive correlation between the two variables. As one variable increases, the other also tends to increase.\n",
    "\n",
    "2. **Negative Correlation:** If the data points form a downward-sloping pattern, it indicates a negative correlation between the two variables. As one variable increases, the other tends to decrease.\n",
    "\n",
    "3. **No Correlation:** If the data points are scattered randomly without any clear pattern, it suggests no significant relationship or correlation between the two variables.\n",
    "\n",
    "4. **Strength of Correlation:** The tighter the data points are clustered around a line (positive or negative), the stronger the correlation between the two variables. A more scattered plot indicates a weaker correlation.\n",
    "\n",
    "**Identifying Outliers:**\n",
    "Yes, it is possible to identify outliers using a scatter plot. Outliers are data points that significantly deviate from the overall pattern of the data and lie far away from the majority of the points. In a scatter plot, outliers appear as data points that are isolated or distant from the main cluster of points.\n",
    "\n",
    "To identify outliers in a scatter plot:\n",
    "1. Look for data points that are far away from the general trend or cluster of points.\n",
    "2. Observe any data points that lie on the outer edges or outside the general pattern of the data.\n",
    "3. Check for points that are visibly separated from the main cluster and do not follow the overall trend.\n",
    "\n",
    "Outliers may indicate data errors, measurement inaccuracies, or significant deviations in the underlying relationship between the variables. It is essential to investigate and verify the nature of outliers before deciding how to handle them in the data analysis process. Outliers can be influential in statistical analyses and machine learning models, and addressing them appropriately is crucial for accurate insights and predictions."
   ]
  },
  {
   "cell_type": "markdown",
   "id": "d89e7e7e",
   "metadata": {},
   "source": [
    "## 10. Describe how cross-tabs can be used to figure out how two variables are related."
   ]
  },
  {
   "cell_type": "markdown",
   "id": "746320d3",
   "metadata": {},
   "source": [
    "Cross-tabulation, also known as a contingency table, is a statistical tool used to explore the relationship between two categorical variables. It displays the frequency distribution of the data by grouping the values of one variable as rows and the values of the other variable as columns. Cross-tabs are particularly useful for understanding how the two variables are related and revealing any patterns or associations between them.\n",
    "\n",
    "**Steps to Use Cross-Tabs to Investigate Relationships:**\n",
    "\n",
    "1. **Data Collection:** Gather the data for the two categorical variables of interest. Each observation in the dataset should be categorized according to the values of the two variables.\n",
    "\n",
    "2. **Create Cross-Tabulation:** Construct a cross-tabulation by organizing the data into a table. Place one variable's values along the rows and the other variable's values along the columns. The cells of the table represent the frequency or count of observations that fall into each combination of the two variables.\n",
    "\n",
    "3. **Analyze the Distribution:** Examine the values in each cell to understand the distribution of the data. Look for patterns and trends in the counts to identify any relationships between the two variables.\n",
    "\n",
    "4. **Percentage or Proportions:** You can convert the counts in the cells to percentages or proportions to better compare the relative frequencies. This allows you to see the distribution more intuitively, especially when dealing with uneven sample sizes.\n",
    "\n",
    "5. **Visual Representation:** To make it easier to interpret and spot patterns, you can visualize the cross-tabulation using a stacked bar chart or heat map.\n",
    "\n",
    "**Interpreting Cross-Tabs:**\n",
    "\n",
    "- **Dependent and Independent Variables:** Cross-tabs are useful for identifying whether two categorical variables are related or independent of each other. If the distribution across the cells is relatively equal, it suggests the variables are independent. However, if certain cells have higher counts, it indicates a relationship between the variables.\n",
    "\n",
    "- **Strength of Association:** The distribution of the counts across the cells indicates the strength of association between the two variables. If there is a clear pattern, such as higher counts in specific combinations, it suggests a strong relationship. Conversely, an even distribution indicates a weak or no relationship.\n",
    "\n",
    "- **Identifying Patterns and Trends:** Cross-tabs can help reveal patterns or trends that might not be evident when looking at each variable separately. For example, they can show how the frequency of one variable changes with different categories of the other variable.\n",
    "\n",
    "- **Hypothesis Testing:** Cross-tabs are often used in hypothesis testing to assess whether there is a significant association between the two variables. Statistical tests like the chi-square test can be applied to determine if the observed distribution significantly differs from what would be expected under the assumption of independence.\n",
    "\n",
    "Cross-tabs provide a straightforward and insightful way to explore relationships between categorical variables and can be a valuable tool in various fields, including market research, social sciences, and data analysis."
   ]
  }
 ],
 "metadata": {
  "kernelspec": {
   "display_name": "Python 3 (ipykernel)",
   "language": "python",
   "name": "python3"
  },
  "language_info": {
   "codemirror_mode": {
    "name": "ipython",
    "version": 3
   },
   "file_extension": ".py",
   "mimetype": "text/x-python",
   "name": "python",
   "nbconvert_exporter": "python",
   "pygments_lexer": "ipython3",
   "version": "3.9.13"
  }
 },
 "nbformat": 4,
 "nbformat_minor": 5
}
